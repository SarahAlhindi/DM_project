{
 "cells": [
  {
   "cell_type": "markdown",
   "id": "b179e1b4-20b1-4388-9911-1a77a08a9b9b",
   "metadata": {},
   "source": [
    "## Source of data"
   ]
  },
  {
   "cell_type": "markdown",
   "id": "6e1b735b-a87b-418f-bdf2-4f43eaf6b3d8",
   "metadata": {},
   "source": [
    "\n",
    "https://www.kaggle.com/datasets/deepcontractor/cyber-security-salarie\r\n"
   ]
  },
  {
   "cell_type": "markdown",
   "id": "a7216e19-7d7c-49b5-b102-1ad585fd4bbe",
   "metadata": {},
   "source": [
    "## General information about the dataset "
   ]
  },
  {
   "cell_type": "markdown",
   "id": "952e048f-00ae-47d2-998f-5f120334f68b",
   "metadata": {},
   "source": [
    "No. of attributes: 11  \r\n"
   ]
  },
  {
   "cell_type": "markdown",
   "id": "73992b53-261e-4844-a8ca-94d0e87bd82d",
   "metadata": {},
   "source": [
    "Type of attributes: Ordinal , Nominal, and Numeric"
   ]
  },
  {
   "cell_type": "markdown",
   "id": "c8b71412-2669-4242-a679-a359b0dca9db",
   "metadata": {},
   "source": [
    "No. of objects: 1247"
   ]
  }
 ],
 "metadata": {
  "kernelspec": {
   "display_name": "R",
   "language": "R",
   "name": "ir"
  },
  "language_info": {
   "codemirror_mode": "r",
   "file_extension": ".r",
   "mimetype": "text/x-r-source",
   "name": "R",
   "pygments_lexer": "r",
   "version": "4.3.1"
  }
 },
 "nbformat": 4,
 "nbformat_minor": 5
}
