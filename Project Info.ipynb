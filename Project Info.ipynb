{
 "cells": [
  {
   "cell_type": "markdown",
   "id": "8a335dd6",
   "metadata": {},
   "source": [
    "## Problem\n",
    "We are living in the “information age” or rather the “data age”, meaning that everything around us revolves around data. The data has become one of the most valuable assets that a person or an organisation can have, since it has a significant value, losing it will lead to significant damages. Thus, most of the attacks nowadays are directed toward the data. To guard against such damages, organisations have realised the importance of protecting their digital assets, leading them to hire cybersecurity specialists. This made cybersecurity gain popularity among people so there’s a growing tendency to study cybersecurity. Consequently this resulted in the emergence of plentiful professionals with various experience levels and skills in this field. As a result, organisations may find it difficult to decide a salary for job candidates solely based on the CV. also, since the attacks improve rapidly, organisations need to hire more employees in the far future to defend against such attacks but it’s not an easy matter to predict the future payroll which may hinders some of the organisation’s plans. Another issue arises when the decision makers in the organisation aren’t fully aware of the trends on salary. Their lack of awareness gives a chance for the competitor organisations to attract their employees to them by offering a better salary that match current trends\n",
    "\n",
    "## Goal\n",
    "Given the problems we discussed and In order to better understand this field, we decided to analyse a dataset of 1247 cybersecurity employees, containing information such as salary, job title, and experience level. Analysing this dataset can provide insightful predictions regarding the salary range of a cybersecurity employee, which can help in\n",
    "\n",
    "- Making better decisions\n",
    "- Making recruitment and hiring process easier and more efficient\n",
    "- Predicting the future payroll\n",
    "- Increasing loyalty\n",
    "- Increasing the satisfaction rate\n",
    "- Achieving fairness"
   ]
  },
  {
   "cell_type": "markdown",
   "id": "b179e1b4-20b1-4388-9911-1a77a08a9b9b",
   "metadata": {},
   "source": [
    "## Source of data"
   ]
  },
  {
   "cell_type": "markdown",
   "id": "6e1b735b-a87b-418f-bdf2-4f43eaf6b3d8",
   "metadata": {},
   "source": [
    "\n",
    "https://www.kaggle.com/datasets/deepcontractor/cyber-security-salarie\n"
   ]
  },
  {
   "cell_type": "code",
   "execution_count": 2,
   "id": "5936df55",
   "metadata": {},
   "outputs": [],
   "source": [
    "dataset<- read.csv(\"data set/salaries_cyber.csv\")"
   ]
  },
  {
   "cell_type": "markdown",
   "id": "a7216e19-7d7c-49b5-b102-1ad585fd4bbe",
   "metadata": {},
   "source": [
    "## General information about the dataset "
   ]
  },
  {
   "cell_type": "markdown",
   "id": "952e048f-00ae-47d2-998f-5f120334f68b",
   "metadata": {},
   "source": [
    "No. of attributes: 11  \n"
   ]
  },
  {
   "cell_type": "markdown",
   "id": "73992b53-261e-4844-a8ca-94d0e87bd82d",
   "metadata": {},
   "source": [
    "Type of attributes: Ordinal , Nominal, and Numeric"
   ]
  },
  {
   "cell_type": "markdown",
   "id": "c8b71412-2669-4242-a679-a359b0dca9db",
   "metadata": {},
   "source": [
    "No. of objects: 1247"
   ]
  },
  {
   "cell_type": "markdown",
   "id": "37b25942",
   "metadata": {},
   "source": [
    "Class label: salary_in_usd"
   ]
  },
  {
   "cell_type": "markdown",
   "id": "82d54121",
   "metadata": {},
   "source": [
    "<table>\n",
    "<tr>\n",
    "<th>Attribute Name</th>\n",
    "<th>Description</th>\n",
    "<th>Data Type</th> \n",
    "<th>Possible values</th>\n",
    "</tr>\n",
    "\n",
    "<tr>\n",
    "<td>work_year</td> \n",
    "<td>The year in which salary was recorded</td> \n",
    "<td>Numerical</td>\n",
    "<td>2020 to 2022</td>\n",
    "</tr>\n",
    "\n",
    "<tr>\n",
    "<td>experience_level</td> \n",
    "<td>Expertise level of the employee</td> \n",
    "<td>Ordinal</td>\n",
    "<td>En “Entry level” <br> \n",
    "MI “Mid level” <br>\n",
    "SE “Senior level” <br>\n",
    "EX “Executive level”\n",
    "\n",
    "</td> \n",
    "</tr>\n",
    "\n",
    "\n",
    "<tr>\n",
    "<td>employment_type</td> \n",
    "<td>Sort of employment</td> \n",
    "<td>Nominal</td> \n",
    "<td>PT “Part time” <br>\n",
    "FT “Full time” <br>\n",
    "CT “Contract <br>\n",
    "FL “Freelancer”\n",
    "</td>\n",
    "</tr>\n",
    "\n",
    "<tr>\n",
    "<td>job_title</td> \n",
    "<td>The role worked in during the year</td> \n",
    "<td>Nominal </td> \n",
    "<td>Different titles</td>\n",
    "</tr>\n",
    "\n",
    "<tr>\n",
    "<td>salary</td> \n",
    "<td>The total gross salary amount paid</td> \n",
    "<td>Numerical</td> \n",
    "<td>1740-50001566</td>\n",
    "</tr>\n",
    "<tr>\n",
    "<td>salary_currency</td> \n",
    "<td>The currency of the salary paid to the employee</td> \n",
    "<td>Nominal</td> \n",
    "<td>Different currencies according to ISO 4217 currency code</td>\n",
    "</tr>\n",
    "\n",
    "<tr>\n",
    "<td>salary_in_usd</td> \n",
    "<td>The salary paid in United states dollar</td> \n",
    "<td>Numerical</td> \n",
    "<td>2000 to 365596.40</td>\n",
    "</tr>\n",
    "\n",
    "<tr>\n",
    "<td>employee_residence</td> \n",
    "<td>Employee's primary country of residence</td> \n",
    "<td>Nominal</td> \n",
    "<td>Different countries</td>\n",
    "</tr>\n",
    "\n",
    "<tr>\n",
    "<td>remote_ratio</td> \n",
    "<td>Percentage of online work by employee in the specified year</td> \n",
    "<td>Numerical</td> \n",
    "<td> 0 “No remote work” <br>\n",
    "50 “Partially remote” <br>\n",
    "100 “Fully remote”\n",
    "\n",
    "</td>\n",
    "</tr>\n",
    "\n",
    "<tr>\n",
    "<td>company_location</td> \n",
    "<td>The country of the employer's main office</td> \n",
    "<td>Nominal</td> \n",
    "<td>Different countries</td>\n",
    "</tr>\n",
    "\n",
    "<tr>\n",
    "<td>company_size</td> \n",
    "<td>How big/small is the company</td> \n",
    "<td>Ordinal</td> \n",
    "<td>S , M or L</td>\n",
    "</tr>\n",
    "\n",
    "</table>"
   ]
  }
 ],
 "metadata": {
  "kernelspec": {
   "display_name": "R",
   "language": "R",
   "name": "ir"
  },
  "language_info": {
   "codemirror_mode": "r",
   "file_extension": ".r",
   "mimetype": "text/x-r-source",
   "name": "R",
   "pygments_lexer": "r",
   "version": "4.3.1"
  }
 },
 "nbformat": 4,
 "nbformat_minor": 5
}
