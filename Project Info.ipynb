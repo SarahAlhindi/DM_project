{
 "cells": [
  {
   "cell_type": "markdown",
   "id": "b179e1b4-20b1-4388-9911-1a77a08a9b9b",
   "metadata": {},
   "source": [
    "## Source of data"
   ]
  },
  {
   "cell_type": "markdown",
   "id": "6e1b735b-a87b-418f-bdf2-4f43eaf6b3d8",
   "metadata": {},
   "source": [
    "\n",
    "https://www.kaggle.com/datasets/deepcontractor/cyber-security-salarie\r\n"
   ]
  },
  {
   "cell_type": "markdown",
   "id": "a7216e19-7d7c-49b5-b102-1ad585fd4bbe",
   "metadata": {},
   "source": [
    "## General information about the dataset "
   ]
  },
  {
   "cell_type": "markdown",
   "id": "952e048f-00ae-47d2-998f-5f120334f68b",
   "metadata": {},
   "source": [
    "No. of attributes: 11\r\n",
    "Type of attributes: Ordinal , Nominal, and Numeric\r\n",
    "No. of objects: 1247\r\n",
    "Class names “labels”: Prediction of upcoming years’ Cyber Security specialists’  \r\n"
   ]
  }
 ],
 "metadata": {
  "kernelspec": {
   "display_name": "R",
   "language": "R",
   "name": "ir"
  },
  "language_info": {
   "codemirror_mode": "r",
   "file_extension": ".r",
   "mimetype": "text/x-r-source",
   "name": "R",
   "pygments_lexer": "r",
   "version": "4.3.1"
  }
 },
 "nbformat": 4,
 "nbformat_minor": 5
}
